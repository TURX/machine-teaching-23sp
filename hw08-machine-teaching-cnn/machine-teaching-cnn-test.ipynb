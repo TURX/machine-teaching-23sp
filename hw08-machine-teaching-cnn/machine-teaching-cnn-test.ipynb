{
 "cells": [
  {
   "attachments": {},
   "cell_type": "markdown",
   "metadata": {},
   "source": [
    "CNN test"
   ]
  },
  {
   "cell_type": "code",
   "execution_count": 58,
   "metadata": {},
   "outputs": [],
   "source": [
    "using CSV\n",
    "using Flux\n",
    "using Plots\n",
    "using DataFrames"
   ]
  },
  {
   "cell_type": "code",
   "execution_count": 59,
   "metadata": {},
   "outputs": [],
   "source": [
    "cd(\"/Users/turx/Projects/machine-teaching-23sp/hw08-machine-teaching-cnn/hw5adata\")"
   ]
  },
  {
   "cell_type": "code",
   "execution_count": 60,
   "metadata": {},
   "outputs": [
    {
     "data": {
      "text/html": [
       "<div><div style = \"float: left;\"><span>817×3 DataFrame</span></div><div style = \"float: right;\"><span style = \"font-style: italic;\">792 rows omitted</span></div><div style = \"clear: both;\"></div></div><div class = \"data-frame\" style = \"overflow-x: scroll;\"><table class = \"data-frame\" style = \"margin-bottom: 6px;\"><thead><tr class = \"header\"><th class = \"rowNumber\" style = \"font-weight: bold; text-align: right;\">Row</th><th style = \"text-align: left;\">x1</th><th style = \"text-align: left;\">x2</th><th style = \"text-align: left;\">y</th></tr><tr class = \"subheader headerLastRow\"><th class = \"rowNumber\" style = \"font-weight: bold; text-align: right;\"></th><th title = \"Float64\" style = \"text-align: left;\">Float64</th><th title = \"Float64\" style = \"text-align: left;\">Float64</th><th title = \"Int64\" style = \"text-align: left;\">Int64</th></tr></thead><tbody><tr><td class = \"rowNumber\" style = \"font-weight: bold; text-align: right;\">1</td><td style = \"text-align: right;\">0.243186</td><td style = \"text-align: right;\">0.693865</td><td style = \"text-align: right;\">1</td></tr><tr><td class = \"rowNumber\" style = \"font-weight: bold; text-align: right;\">2</td><td style = \"text-align: right;\">0.834901</td><td style = \"text-align: right;\">0.086292</td><td style = \"text-align: right;\">1</td></tr><tr><td class = \"rowNumber\" style = \"font-weight: bold; text-align: right;\">3</td><td style = \"text-align: right;\">0.987878</td><td style = \"text-align: right;\">0.09142</td><td style = \"text-align: right;\">1</td></tr><tr><td class = \"rowNumber\" style = \"font-weight: bold; text-align: right;\">4</td><td style = \"text-align: right;\">0.419272</td><td style = \"text-align: right;\">0.254557</td><td style = \"text-align: right;\">1</td></tr><tr><td class = \"rowNumber\" style = \"font-weight: bold; text-align: right;\">5</td><td style = \"text-align: right;\">0.398753</td><td style = \"text-align: right;\">0.182756</td><td style = \"text-align: right;\">1</td></tr><tr><td class = \"rowNumber\" style = \"font-weight: bold; text-align: right;\">6</td><td style = \"text-align: right;\">0.857597</td><td style = \"text-align: right;\">0.053759</td><td style = \"text-align: right;\">1</td></tr><tr><td class = \"rowNumber\" style = \"font-weight: bold; text-align: right;\">7</td><td style = \"text-align: right;\">0.202931</td><td style = \"text-align: right;\">0.766022</td><td style = \"text-align: right;\">1</td></tr><tr><td class = \"rowNumber\" style = \"font-weight: bold; text-align: right;\">8</td><td style = \"text-align: right;\">0.114349</td><td style = \"text-align: right;\">0.516558</td><td style = \"text-align: right;\">1</td></tr><tr><td class = \"rowNumber\" style = \"font-weight: bold; text-align: right;\">9</td><td style = \"text-align: right;\">0.091687</td><td style = \"text-align: right;\">0.903948</td><td style = \"text-align: right;\">1</td></tr><tr><td class = \"rowNumber\" style = \"font-weight: bold; text-align: right;\">10</td><td style = \"text-align: right;\">0.237269</td><td style = \"text-align: right;\">0.951995</td><td style = \"text-align: right;\">1</td></tr><tr><td class = \"rowNumber\" style = \"font-weight: bold; text-align: right;\">11</td><td style = \"text-align: right;\">0.51506</td><td style = \"text-align: right;\">0.277675</td><td style = \"text-align: right;\">1</td></tr><tr><td class = \"rowNumber\" style = \"font-weight: bold; text-align: right;\">12</td><td style = \"text-align: right;\">0.855914</td><td style = \"text-align: right;\">0.194755</td><td style = \"text-align: right;\">1</td></tr><tr><td class = \"rowNumber\" style = \"font-weight: bold; text-align: right;\">13</td><td style = \"text-align: right;\">0.437554</td><td style = \"text-align: right;\">0.135666</td><td style = \"text-align: right;\">1</td></tr><tr><td style = \"text-align: right;\">&vellip;</td><td style = \"text-align: right;\">&vellip;</td><td style = \"text-align: right;\">&vellip;</td><td style = \"text-align: right;\">&vellip;</td></tr><tr><td class = \"rowNumber\" style = \"font-weight: bold; text-align: right;\">806</td><td style = \"text-align: right;\">0.493932</td><td style = \"text-align: right;\">0.654021</td><td style = \"text-align: right;\">0</td></tr><tr><td class = \"rowNumber\" style = \"font-weight: bold; text-align: right;\">807</td><td style = \"text-align: right;\">0.631259</td><td style = \"text-align: right;\">0.724219</td><td style = \"text-align: right;\">0</td></tr><tr><td class = \"rowNumber\" style = \"font-weight: bold; text-align: right;\">808</td><td style = \"text-align: right;\">0.709973</td><td style = \"text-align: right;\">0.699938</td><td style = \"text-align: right;\">0</td></tr><tr><td class = \"rowNumber\" style = \"font-weight: bold; text-align: right;\">809</td><td style = \"text-align: right;\">0.851425</td><td style = \"text-align: right;\">0.770099</td><td style = \"text-align: right;\">0</td></tr><tr><td class = \"rowNumber\" style = \"font-weight: bold; text-align: right;\">810</td><td style = \"text-align: right;\">0.749063</td><td style = \"text-align: right;\">0.752077</td><td style = \"text-align: right;\">0</td></tr><tr><td class = \"rowNumber\" style = \"font-weight: bold; text-align: right;\">811</td><td style = \"text-align: right;\">0.034415</td><td style = \"text-align: right;\">0.028842</td><td style = \"text-align: right;\">0</td></tr><tr><td class = \"rowNumber\" style = \"font-weight: bold; text-align: right;\">812</td><td style = \"text-align: right;\">0.6096</td><td style = \"text-align: right;\">0.840784</td><td style = \"text-align: right;\">0</td></tr><tr><td class = \"rowNumber\" style = \"font-weight: bold; text-align: right;\">813</td><td style = \"text-align: right;\">0.128784</td><td style = \"text-align: right;\">0.26094</td><td style = \"text-align: right;\">0</td></tr><tr><td class = \"rowNumber\" style = \"font-weight: bold; text-align: right;\">814</td><td style = \"text-align: right;\">0.753875</td><td style = \"text-align: right;\">0.839707</td><td style = \"text-align: right;\">0</td></tr><tr><td class = \"rowNumber\" style = \"font-weight: bold; text-align: right;\">815</td><td style = \"text-align: right;\">0.233036</td><td style = \"text-align: right;\">0.055032</td><td style = \"text-align: right;\">0</td></tr><tr><td class = \"rowNumber\" style = \"font-weight: bold; text-align: right;\">816</td><td style = \"text-align: right;\">0.458801</td><td style = \"text-align: right;\">0.396413</td><td style = \"text-align: right;\">0</td></tr><tr><td class = \"rowNumber\" style = \"font-weight: bold; text-align: right;\">817</td><td style = \"text-align: right;\">0.866546</td><td style = \"text-align: right;\">0.613416</td><td style = \"text-align: right;\">0</td></tr></tbody></table></div>"
      ],
      "text/latex": [
       "\\begin{tabular}{r|ccc}\n",
       "\t& x1 & x2 & y\\\\\n",
       "\t\\hline\n",
       "\t& Float64 & Float64 & Int64\\\\\n",
       "\t\\hline\n",
       "\t1 & 0.243186 & 0.693865 & 1 \\\\\n",
       "\t2 & 0.834901 & 0.086292 & 1 \\\\\n",
       "\t3 & 0.987878 & 0.09142 & 1 \\\\\n",
       "\t4 & 0.419272 & 0.254557 & 1 \\\\\n",
       "\t5 & 0.398753 & 0.182756 & 1 \\\\\n",
       "\t6 & 0.857597 & 0.053759 & 1 \\\\\n",
       "\t7 & 0.202931 & 0.766022 & 1 \\\\\n",
       "\t8 & 0.114349 & 0.516558 & 1 \\\\\n",
       "\t9 & 0.091687 & 0.903948 & 1 \\\\\n",
       "\t10 & 0.237269 & 0.951995 & 1 \\\\\n",
       "\t11 & 0.51506 & 0.277675 & 1 \\\\\n",
       "\t12 & 0.855914 & 0.194755 & 1 \\\\\n",
       "\t13 & 0.437554 & 0.135666 & 1 \\\\\n",
       "\t14 & 0.765425 & 0.102455 & 1 \\\\\n",
       "\t15 & 0.134773 & 0.510836 & 1 \\\\\n",
       "\t16 & 0.113987 & 0.698984 & 1 \\\\\n",
       "\t17 & 0.124388 & 0.608281 & 1 \\\\\n",
       "\t18 & 0.878 & 0.175283 & 1 \\\\\n",
       "\t19 & 0.063943 & 0.919705 & 1 \\\\\n",
       "\t20 & 0.99978 & 0.039171 & 1 \\\\\n",
       "\t21 & 0.030788 & 0.886296 & 1 \\\\\n",
       "\t22 & 0.430854 & 0.040073 & 1 \\\\\n",
       "\t23 & 0.780663 & 0.274026 & 1 \\\\\n",
       "\t24 & 0.032915 & 0.504565 & 1 \\\\\n",
       "\t$\\dots$ & $\\dots$ & $\\dots$ & $\\dots$ \\\\\n",
       "\\end{tabular}\n"
      ],
      "text/plain": [
       "\u001b[1m817×3 DataFrame\u001b[0m\n",
       "\u001b[1m Row \u001b[0m│\u001b[1m x1       \u001b[0m\u001b[1m x2       \u001b[0m\u001b[1m y     \u001b[0m\n",
       "     │\u001b[90m Float64  \u001b[0m\u001b[90m Float64  \u001b[0m\u001b[90m Int64 \u001b[0m\n",
       "─────┼───────────────────────────\n",
       "   1 │ 0.243186  0.693865      1\n",
       "   2 │ 0.834901  0.086292      1\n",
       "   3 │ 0.987878  0.09142       1\n",
       "   4 │ 0.419272  0.254557      1\n",
       "   5 │ 0.398753  0.182756      1\n",
       "   6 │ 0.857597  0.053759      1\n",
       "   7 │ 0.202931  0.766022      1\n",
       "   8 │ 0.114349  0.516558      1\n",
       "  ⋮  │    ⋮         ⋮        ⋮\n",
       " 811 │ 0.034415  0.028842      0\n",
       " 812 │ 0.6096    0.840784      0\n",
       " 813 │ 0.128784  0.26094       0\n",
       " 814 │ 0.753875  0.839707      0\n",
       " 815 │ 0.233036  0.055032      0\n",
       " 816 │ 0.458801  0.396413      0\n",
       " 817 │ 0.866546  0.613416      0\n",
       "\u001b[36m                 802 rows omitted\u001b[0m"
      ]
     },
     "metadata": {},
     "output_type": "display_data"
    }
   ],
   "source": [
    "pool = CSV.read(\"hw5data.txt\", delim=\" \", header=[:x1, :x2, :y], DataFrame)"
   ]
  },
  {
   "cell_type": "code",
   "execution_count": 64,
   "metadata": {},
   "outputs": [
    {
     "name": "stdout",
     "output_type": "stream",
     "text": [
      "(2, 817)\n",
      "2\n"
     ]
    },
    {
     "data": {
      "text/plain": [
       "Chain(\n",
       "  Dense(2 => 128, relu),                \u001b[90m# 384 parameters\u001b[39m\n",
       "  Dense(128 => 64, relu),               \u001b[90m# 8_256 parameters\u001b[39m\n",
       "  Dense(64 => 32, relu),                \u001b[90m# 2_080 parameters\u001b[39m\n",
       "  Dense(32 => 2),                       \u001b[90m# 66 parameters\u001b[39m\n",
       "  NNlib.softmax,\n",
       ") \u001b[90m                  # Total: 8 arrays, \u001b[39m10_786 parameters, 42.633 KiB."
      ]
     },
     "metadata": {},
     "output_type": "display_data"
    }
   ],
   "source": [
    "data = pool[:, [:x1, :x2]] |> Matrix\n",
    "data = data'\n",
    "println(size(data))\n",
    "println(first(size(data)))\n",
    "labels_raw = pool[:, :y]\n",
    "labels = Flux.onehotbatch(labels_raw, 0:1)\n",
    "# println(size(labels))\n",
    "\n",
    "model = Chain(\n",
    "  Dense(2, 128, relu),\n",
    "  Dense(128, 64, relu),\n",
    "  Dense(64, 32, relu),\n",
    "  Dense(32, 2),\n",
    "  softmax\n",
    ")\n",
    "\n",
    "loss(x, y) = Flux.crossentropy(model(x), y)\n",
    "\n",
    "for epoch in 1:100\n",
    "  Flux.train!(loss, Flux.params(model), [(data, labels)], ADAM())\n",
    "end\n",
    "\n",
    "model\n",
    "\n",
    "# plot(x -> 2x-x^3, -2, 2, legend=false)\n",
    "# scatter!(x -> model([x]), -2:0.1f0:2)"
   ]
  },
  {
   "cell_type": "code",
   "execution_count": 62,
   "metadata": {},
   "outputs": [
    {
     "data": {
      "text/plain": [
       "0.9791921664626683"
      ]
     },
     "metadata": {},
     "output_type": "display_data"
    }
   ],
   "source": [
    "# predict the original data\n",
    "pred_prob = model(data)\n",
    "pred_labels = Flux.onecold(pred_prob) .- 1\n",
    "sum(pred_labels .== labels_raw) / length(labels_raw)"
   ]
  }
 ],
 "metadata": {
  "kernelspec": {
   "display_name": "Julia 1.9.0",
   "language": "julia",
   "name": "julia-1.9"
  },
  "language_info": {
   "file_extension": ".jl",
   "mimetype": "application/julia",
   "name": "julia",
   "version": "1.9.0"
  },
  "orig_nbformat": 4
 },
 "nbformat": 4,
 "nbformat_minor": 2
}
