{
 "cells": [
  {
   "cell_type": "code",
   "execution_count": 9,
   "metadata": {},
   "outputs": [],
   "source": [
    "using Flux\n",
    "using MLDatasets"
   ]
  },
  {
   "cell_type": "code",
   "execution_count": 13,
   "metadata": {},
   "outputs": [
    {
     "name": "stdout",
     "output_type": "stream",
     "text": [
      "Array{Float32, 3}\n",
      "(28, 28, 60000)\n",
      "Matrix"
     ]
    },
    {
     "name": "stdout",
     "output_type": "stream",
     "text": [
      "{Float32}\n",
      "(784, 60000)\n",
      "OneHotArrays.OneHotMatrix{UInt32, Vector{UInt32}}\n",
      "(10, 60000)\n"
     ]
    }
   ],
   "source": [
    "train_x_raw, train_y_raw = MNIST(split = :train)[:]\n",
    "println(typeof(train_x_raw))\n",
    "println(size(train_x_raw))\n",
    "test_x_raw, test_y_raw  = MNIST(split = :test)[:]\n",
    "train_x = Flux.flatten(train_x_raw)\n",
    "println(typeof(train_x))\n",
    "println(size(train_x))\n",
    "test_x = Flux.flatten(test_x_raw)\n",
    "train_y = Flux.onehotbatch(train_y_raw, 0:9)\n",
    "println(typeof(train_y))\n",
    "println(size(train_y))\n",
    "test_y  = Flux.onehotbatch(test_y_raw, 0:9)\n",
    ";"
   ]
  },
  {
   "cell_type": "code",
   "execution_count": 11,
   "metadata": {},
   "outputs": [
    {
     "data": {
      "text/plain": [
       "Chain(\n",
       "  Dense(784 => 128, relu),              \u001b[90m# 100_480 parameters\u001b[39m\n",
       "  Dense(128 => 64, relu),               \u001b[90m# 8_256 parameters\u001b[39m\n",
       "  Dense(64 => 32, relu),                \u001b[90m# 2_080 parameters\u001b[39m\n",
       "  Dense(32 => 10),                      \u001b[90m# 330 parameters\u001b[39m\n",
       "  NNlib.softmax,\n",
       ") \u001b[90m                  # Total: 8 arrays, \u001b[39m111_146 parameters, 434.664 KiB."
      ]
     },
     "metadata": {},
     "output_type": "display_data"
    }
   ],
   "source": [
    "model = Chain(\n",
    "  Dense(784, 128, relu),\n",
    "  Dense(128, 64, relu),\n",
    "  Dense(64, 32, relu),\n",
    "  Dense(32, 10),\n",
    "  softmax\n",
    ")\n",
    "\n",
    "loss(x, y) = Flux.crossentropy(model(x), y)\n",
    "\n",
    "for epoch in 1:100\n",
    "  Flux.train!(loss, Flux.params(model), [(train_x, train_y)], ADAM())\n",
    "end\n",
    "\n",
    "model"
   ]
  },
  {
   "cell_type": "code",
   "execution_count": 12,
   "metadata": {},
   "outputs": [
    {
     "data": {
      "text/plain": [
       "0.8961"
      ]
     },
     "metadata": {},
     "output_type": "display_data"
    }
   ],
   "source": [
    "p = model(test_x)\n",
    "a = vec(first.(Tuple.(Flux.argmax(p, dims=1)))) .- 1\n",
    "sum(a .== test_y_raw) / length(test_y_raw)"
   ]
  }
 ],
 "metadata": {
  "kernelspec": {
   "display_name": "Julia 1.9.0",
   "language": "julia",
   "name": "julia-1.9"
  },
  "language_info": {
   "file_extension": ".jl",
   "mimetype": "application/julia",
   "name": "julia",
   "version": "1.9.0"
  },
  "orig_nbformat": 4
 },
 "nbformat": 4,
 "nbformat_minor": 2
}
